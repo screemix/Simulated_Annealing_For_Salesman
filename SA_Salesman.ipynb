{
  "cells": [
    {
      "cell_type": "markdown",
      "source": [
        "## Libs"
      ],
      "metadata": {
        "id": "8PAGc5rnR6Jt"
      }
    },
    {
      "cell_type": "code",
      "execution_count": 31,
      "metadata": {
        "id": "KQggItI5Foho"
      },
      "outputs": [],
      "source": [
        "import pandas as pd\n",
        "from geopy import distance\n",
        "from math import exp\n",
        "from numpy import random\n",
        "from random import choice\n",
        "import numpy as np\n",
        "import json\n",
        "import matplotlib.pyplot as plt\n",
        "from matplotlib import animation"
      ]
    },
    {
      "cell_type": "markdown",
      "source": [
        "## Data preprocessing"
      ],
      "metadata": {
        "id": "B5EA0YRfR8T9"
      }
    },
    {
      "cell_type": "code",
      "execution_count": 2,
      "metadata": {
        "id": "_pS6_L7cF9Za"
      },
      "outputs": [],
      "source": [
        "df = pd.read_csv(\"city.csv\").sort_values(by=\"population\", ascending=False).iloc[:30, :]"
      ]
    },
    {
      "cell_type": "code",
      "execution_count": 3,
      "metadata": {
        "id": "5heyyl50GDEU"
      },
      "outputs": [],
      "source": [
        "df = df[[\"address\", \"geo_lat\", \"geo_lon\"]]"
      ]
    },
    {
      "cell_type": "code",
      "execution_count": 4,
      "metadata": {
        "colab": {
          "base_uri": "https://localhost:8080/",
          "height": 962
        },
        "id": "UnwNPW3SGdF4",
        "outputId": "ba4d239f-4f06-4d9c-c4ba-badd0309baf5"
      },
      "outputs": [
        {
          "output_type": "execute_result",
          "data": {
            "text/plain": [
              "                                           address    geo_lat     geo_lon\n",
              "509                                       г Москва  55.754047   37.620405\n",
              "786                              г Санкт-Петербург  59.939131   30.315900\n",
              "647                                  г Новосибирск  55.028191   82.921149\n",
              "832                                 г Екатеринбург  56.838522   60.605491\n",
              "619                              г Нижний Новгород  56.324063   44.005391\n",
              "927                                       г Казань  55.794358   49.111497\n",
              "782                                       г Самара  53.195031   50.106952\n",
              "656                                         г Омск  54.984857   73.367452\n",
              "1064                                   г Челябинск  55.160262   61.400808\n",
              "757                               г Ростов-на-Дону  47.222457   39.718803\n",
              "62                                           г Уфа  54.734944   55.957847\n",
              "121                                    г Волгоград  48.707004   44.517034\n",
              "706                                        г Пермь  58.010258   56.234203\n",
              "411                                   г Красноярск  56.009388   92.852481\n",
              "159                                      г Воронеж  51.659333   39.196923\n",
              "801                                      г Саратов  51.533557   46.034257\n",
              "381                                    г Краснодар  45.040160   38.975965\n",
              "784                      Самарская обл, г Тольятти  53.520535   49.389403\n",
              "4                                        г Барнаул  53.347997   83.779806\n",
              "999                                       г Ижевск  56.852738   53.211490\n",
              "1008                                   г Ульяновск  54.307941   48.374849\n",
              "717                                  г Владивосток  43.116490  131.882394\n",
              "1116                                   г Ярославль  57.621548   39.897741\n",
              "223                                      г Иркутск  52.286404  104.280747\n",
              "995                                       г Тюмень  57.152974   65.534410\n",
              "177                                    г Махачкала  42.984916   47.504718\n",
              "1015                                   г Хабаровск  48.464726  135.059894\n",
              "666                                     г Оренбург  51.787509   55.101883\n",
              "322   Кемеровская область - Кузбасс, г Новокузнецк  53.794315   87.214275\n",
              "316                                     г Кемерово  55.391065   86.046778"
            ],
            "text/html": [
              "\n",
              "  <div id=\"df-24f33ced-d243-4812-95e3-5214eec7c327\">\n",
              "    <div class=\"colab-df-container\">\n",
              "      <div>\n",
              "<style scoped>\n",
              "    .dataframe tbody tr th:only-of-type {\n",
              "        vertical-align: middle;\n",
              "    }\n",
              "\n",
              "    .dataframe tbody tr th {\n",
              "        vertical-align: top;\n",
              "    }\n",
              "\n",
              "    .dataframe thead th {\n",
              "        text-align: right;\n",
              "    }\n",
              "</style>\n",
              "<table border=\"1\" class=\"dataframe\">\n",
              "  <thead>\n",
              "    <tr style=\"text-align: right;\">\n",
              "      <th></th>\n",
              "      <th>address</th>\n",
              "      <th>geo_lat</th>\n",
              "      <th>geo_lon</th>\n",
              "    </tr>\n",
              "  </thead>\n",
              "  <tbody>\n",
              "    <tr>\n",
              "      <th>509</th>\n",
              "      <td>г Москва</td>\n",
              "      <td>55.754047</td>\n",
              "      <td>37.620405</td>\n",
              "    </tr>\n",
              "    <tr>\n",
              "      <th>786</th>\n",
              "      <td>г Санкт-Петербург</td>\n",
              "      <td>59.939131</td>\n",
              "      <td>30.315900</td>\n",
              "    </tr>\n",
              "    <tr>\n",
              "      <th>647</th>\n",
              "      <td>г Новосибирск</td>\n",
              "      <td>55.028191</td>\n",
              "      <td>82.921149</td>\n",
              "    </tr>\n",
              "    <tr>\n",
              "      <th>832</th>\n",
              "      <td>г Екатеринбург</td>\n",
              "      <td>56.838522</td>\n",
              "      <td>60.605491</td>\n",
              "    </tr>\n",
              "    <tr>\n",
              "      <th>619</th>\n",
              "      <td>г Нижний Новгород</td>\n",
              "      <td>56.324063</td>\n",
              "      <td>44.005391</td>\n",
              "    </tr>\n",
              "    <tr>\n",
              "      <th>927</th>\n",
              "      <td>г Казань</td>\n",
              "      <td>55.794358</td>\n",
              "      <td>49.111497</td>\n",
              "    </tr>\n",
              "    <tr>\n",
              "      <th>782</th>\n",
              "      <td>г Самара</td>\n",
              "      <td>53.195031</td>\n",
              "      <td>50.106952</td>\n",
              "    </tr>\n",
              "    <tr>\n",
              "      <th>656</th>\n",
              "      <td>г Омск</td>\n",
              "      <td>54.984857</td>\n",
              "      <td>73.367452</td>\n",
              "    </tr>\n",
              "    <tr>\n",
              "      <th>1064</th>\n",
              "      <td>г Челябинск</td>\n",
              "      <td>55.160262</td>\n",
              "      <td>61.400808</td>\n",
              "    </tr>\n",
              "    <tr>\n",
              "      <th>757</th>\n",
              "      <td>г Ростов-на-Дону</td>\n",
              "      <td>47.222457</td>\n",
              "      <td>39.718803</td>\n",
              "    </tr>\n",
              "    <tr>\n",
              "      <th>62</th>\n",
              "      <td>г Уфа</td>\n",
              "      <td>54.734944</td>\n",
              "      <td>55.957847</td>\n",
              "    </tr>\n",
              "    <tr>\n",
              "      <th>121</th>\n",
              "      <td>г Волгоград</td>\n",
              "      <td>48.707004</td>\n",
              "      <td>44.517034</td>\n",
              "    </tr>\n",
              "    <tr>\n",
              "      <th>706</th>\n",
              "      <td>г Пермь</td>\n",
              "      <td>58.010258</td>\n",
              "      <td>56.234203</td>\n",
              "    </tr>\n",
              "    <tr>\n",
              "      <th>411</th>\n",
              "      <td>г Красноярск</td>\n",
              "      <td>56.009388</td>\n",
              "      <td>92.852481</td>\n",
              "    </tr>\n",
              "    <tr>\n",
              "      <th>159</th>\n",
              "      <td>г Воронеж</td>\n",
              "      <td>51.659333</td>\n",
              "      <td>39.196923</td>\n",
              "    </tr>\n",
              "    <tr>\n",
              "      <th>801</th>\n",
              "      <td>г Саратов</td>\n",
              "      <td>51.533557</td>\n",
              "      <td>46.034257</td>\n",
              "    </tr>\n",
              "    <tr>\n",
              "      <th>381</th>\n",
              "      <td>г Краснодар</td>\n",
              "      <td>45.040160</td>\n",
              "      <td>38.975965</td>\n",
              "    </tr>\n",
              "    <tr>\n",
              "      <th>784</th>\n",
              "      <td>Самарская обл, г Тольятти</td>\n",
              "      <td>53.520535</td>\n",
              "      <td>49.389403</td>\n",
              "    </tr>\n",
              "    <tr>\n",
              "      <th>4</th>\n",
              "      <td>г Барнаул</td>\n",
              "      <td>53.347997</td>\n",
              "      <td>83.779806</td>\n",
              "    </tr>\n",
              "    <tr>\n",
              "      <th>999</th>\n",
              "      <td>г Ижевск</td>\n",
              "      <td>56.852738</td>\n",
              "      <td>53.211490</td>\n",
              "    </tr>\n",
              "    <tr>\n",
              "      <th>1008</th>\n",
              "      <td>г Ульяновск</td>\n",
              "      <td>54.307941</td>\n",
              "      <td>48.374849</td>\n",
              "    </tr>\n",
              "    <tr>\n",
              "      <th>717</th>\n",
              "      <td>г Владивосток</td>\n",
              "      <td>43.116490</td>\n",
              "      <td>131.882394</td>\n",
              "    </tr>\n",
              "    <tr>\n",
              "      <th>1116</th>\n",
              "      <td>г Ярославль</td>\n",
              "      <td>57.621548</td>\n",
              "      <td>39.897741</td>\n",
              "    </tr>\n",
              "    <tr>\n",
              "      <th>223</th>\n",
              "      <td>г Иркутск</td>\n",
              "      <td>52.286404</td>\n",
              "      <td>104.280747</td>\n",
              "    </tr>\n",
              "    <tr>\n",
              "      <th>995</th>\n",
              "      <td>г Тюмень</td>\n",
              "      <td>57.152974</td>\n",
              "      <td>65.534410</td>\n",
              "    </tr>\n",
              "    <tr>\n",
              "      <th>177</th>\n",
              "      <td>г Махачкала</td>\n",
              "      <td>42.984916</td>\n",
              "      <td>47.504718</td>\n",
              "    </tr>\n",
              "    <tr>\n",
              "      <th>1015</th>\n",
              "      <td>г Хабаровск</td>\n",
              "      <td>48.464726</td>\n",
              "      <td>135.059894</td>\n",
              "    </tr>\n",
              "    <tr>\n",
              "      <th>666</th>\n",
              "      <td>г Оренбург</td>\n",
              "      <td>51.787509</td>\n",
              "      <td>55.101883</td>\n",
              "    </tr>\n",
              "    <tr>\n",
              "      <th>322</th>\n",
              "      <td>Кемеровская область - Кузбасс, г Новокузнецк</td>\n",
              "      <td>53.794315</td>\n",
              "      <td>87.214275</td>\n",
              "    </tr>\n",
              "    <tr>\n",
              "      <th>316</th>\n",
              "      <td>г Кемерово</td>\n",
              "      <td>55.391065</td>\n",
              "      <td>86.046778</td>\n",
              "    </tr>\n",
              "  </tbody>\n",
              "</table>\n",
              "</div>\n",
              "      <button class=\"colab-df-convert\" onclick=\"convertToInteractive('df-24f33ced-d243-4812-95e3-5214eec7c327')\"\n",
              "              title=\"Convert this dataframe to an interactive table.\"\n",
              "              style=\"display:none;\">\n",
              "        \n",
              "  <svg xmlns=\"http://www.w3.org/2000/svg\" height=\"24px\"viewBox=\"0 0 24 24\"\n",
              "       width=\"24px\">\n",
              "    <path d=\"M0 0h24v24H0V0z\" fill=\"none\"/>\n",
              "    <path d=\"M18.56 5.44l.94 2.06.94-2.06 2.06-.94-2.06-.94-.94-2.06-.94 2.06-2.06.94zm-11 1L8.5 8.5l.94-2.06 2.06-.94-2.06-.94L8.5 2.5l-.94 2.06-2.06.94zm10 10l.94 2.06.94-2.06 2.06-.94-2.06-.94-.94-2.06-.94 2.06-2.06.94z\"/><path d=\"M17.41 7.96l-1.37-1.37c-.4-.4-.92-.59-1.43-.59-.52 0-1.04.2-1.43.59L10.3 9.45l-7.72 7.72c-.78.78-.78 2.05 0 2.83L4 21.41c.39.39.9.59 1.41.59.51 0 1.02-.2 1.41-.59l7.78-7.78 2.81-2.81c.8-.78.8-2.07 0-2.86zM5.41 20L4 18.59l7.72-7.72 1.47 1.35L5.41 20z\"/>\n",
              "  </svg>\n",
              "      </button>\n",
              "      \n",
              "  <style>\n",
              "    .colab-df-container {\n",
              "      display:flex;\n",
              "      flex-wrap:wrap;\n",
              "      gap: 12px;\n",
              "    }\n",
              "\n",
              "    .colab-df-convert {\n",
              "      background-color: #E8F0FE;\n",
              "      border: none;\n",
              "      border-radius: 50%;\n",
              "      cursor: pointer;\n",
              "      display: none;\n",
              "      fill: #1967D2;\n",
              "      height: 32px;\n",
              "      padding: 0 0 0 0;\n",
              "      width: 32px;\n",
              "    }\n",
              "\n",
              "    .colab-df-convert:hover {\n",
              "      background-color: #E2EBFA;\n",
              "      box-shadow: 0px 1px 2px rgba(60, 64, 67, 0.3), 0px 1px 3px 1px rgba(60, 64, 67, 0.15);\n",
              "      fill: #174EA6;\n",
              "    }\n",
              "\n",
              "    [theme=dark] .colab-df-convert {\n",
              "      background-color: #3B4455;\n",
              "      fill: #D2E3FC;\n",
              "    }\n",
              "\n",
              "    [theme=dark] .colab-df-convert:hover {\n",
              "      background-color: #434B5C;\n",
              "      box-shadow: 0px 1px 3px 1px rgba(0, 0, 0, 0.15);\n",
              "      filter: drop-shadow(0px 1px 2px rgba(0, 0, 0, 0.3));\n",
              "      fill: #FFFFFF;\n",
              "    }\n",
              "  </style>\n",
              "\n",
              "      <script>\n",
              "        const buttonEl =\n",
              "          document.querySelector('#df-24f33ced-d243-4812-95e3-5214eec7c327 button.colab-df-convert');\n",
              "        buttonEl.style.display =\n",
              "          google.colab.kernel.accessAllowed ? 'block' : 'none';\n",
              "\n",
              "        async function convertToInteractive(key) {\n",
              "          const element = document.querySelector('#df-24f33ced-d243-4812-95e3-5214eec7c327');\n",
              "          const dataTable =\n",
              "            await google.colab.kernel.invokeFunction('convertToInteractive',\n",
              "                                                     [key], {});\n",
              "          if (!dataTable) return;\n",
              "\n",
              "          const docLinkHtml = 'Like what you see? Visit the ' +\n",
              "            '<a target=\"_blank\" href=https://colab.research.google.com/notebooks/data_table.ipynb>data table notebook</a>'\n",
              "            + ' to learn more about interactive tables.';\n",
              "          element.innerHTML = '';\n",
              "          dataTable['output_type'] = 'display_data';\n",
              "          await google.colab.output.renderOutput(dataTable, element);\n",
              "          const docLink = document.createElement('div');\n",
              "          docLink.innerHTML = docLinkHtml;\n",
              "          element.appendChild(docLink);\n",
              "        }\n",
              "      </script>\n",
              "    </div>\n",
              "  </div>\n",
              "  "
            ]
          },
          "metadata": {},
          "execution_count": 4
        }
      ],
      "source": [
        "df"
      ]
    },
    {
      "cell_type": "markdown",
      "source": [
        "## Helping functions for simulated annealing"
      ],
      "metadata": {
        "id": "lO9HLIBESCQg"
      }
    },
    {
      "cell_type": "code",
      "execution_count": 5,
      "metadata": {
        "id": "IFOR-KznGqKM"
      },
      "outputs": [],
      "source": [
        "def dist(x, y):\n",
        "  return distance.distance(x, y).km\n",
        "\n",
        "\n",
        "def salesman_distance(cities):\n",
        "\n",
        "  path = cities_to_coordinates(cities)\n",
        "\n",
        "  overall_dist = 0\n",
        "\n",
        "  for i, city in enumerate(path[:-1]):\n",
        "    overall_dist += dist(city, path[i+1])\n",
        "\n",
        "  # overall_dist += dist(path[-1], path[0])\n",
        "  return overall_dist\n",
        "\n",
        "\n",
        "def cities_to_coordinates(cities):\n",
        "\n",
        "  path = []\n",
        "\n",
        "  for city in cities:\n",
        "    city_row = df[df[\"address\"] == city]\n",
        "    path.append((float(city_row[\"geo_lat\"]), float(city_row[\"geo_lon\"])))\n",
        "\n",
        "  return path\n",
        "\n",
        "\n",
        "def proposal_distribution(arr):\n",
        "  # swapping two cities in array\n",
        "\n",
        "  arr = arr.copy()\n",
        "\n",
        "  a = choice(arr)\n",
        "  b = choice(arr)\n",
        "\n",
        "  while a == b:\n",
        "    b = choice(arr)\n",
        "\n",
        "  a_ind = arr.index(a)\n",
        "  b_ind = arr.index(b)\n",
        "\n",
        "  arr[a_ind] = b\n",
        "  arr[b_ind] = a \n",
        "\n",
        "  return arr\n"
      ]
    },
    {
      "cell_type": "markdown",
      "source": [
        "## Simulated annealing"
      ],
      "metadata": {
        "id": "837Ge6p8SHAs"
      }
    },
    {
      "cell_type": "code",
      "execution_count": 70,
      "metadata": {
        "id": "9PogY_4oJSgr"
      },
      "outputs": [],
      "source": [
        "def simulate_annealing(cities_list=list(df[\"address\"]), alpha=0.5, T=4000, N=1, verbose=True):\n",
        "  \n",
        "  process_temperature = []\n",
        "  verbose_cities = []\n",
        "\n",
        "  x_t = cities_list.copy()\n",
        "  random.shuffle(x_t)\n",
        "\n",
        "  \n",
        "  t = 0\n",
        "\n",
        "  while T > 20:\n",
        "\n",
        "    t += 1\n",
        "    if verbose:\n",
        "      process_temperature.append(T)\n",
        "      verbose_cities.append(x_t)\n",
        "\n",
        "    x_star = proposal_distribution(x_t)\n",
        "\n",
        "    energy_delta = (salesman_distance(x_t) - salesman_distance(x_star))/t\n",
        "\n",
        "    # Emperically identified maximum number that exp() could take\n",
        "    if energy_delta < 710:\n",
        "      acceptance_ratio =  exp((salesman_distance(x_t) - salesman_distance(x_star))/t)\n",
        "    else:\n",
        "      acceptance_ratio = float('inf')\n",
        "    \n",
        "    u = random.uniform(low=0.0, high=1.0)\n",
        "\n",
        "\n",
        "    if u <= acceptance_ratio:\n",
        "      x_t = x_star    \n",
        "\n",
        "    if t % N == 0:\n",
        "      T = T * alpha\n",
        "      print(salesman_distance(x_t))\n",
        "\n",
        "  if verbose:\n",
        "    return x_t, salesman_distance(x_t), process_temperature, verbose_cities\n",
        "  else:\n",
        "    return x_t, salesman_distance(x_t)"
      ]
    },
    {
      "cell_type": "markdown",
      "source": [
        "## Visualization of different annealing speeds"
      ],
      "metadata": {
        "id": "U_Ya5jI4SLbq"
      }
    },
    {
      "cell_type": "code",
      "execution_count": 124,
      "metadata": {
        "colab": {
          "base_uri": "https://localhost:8080/"
        },
        "id": "NLcjkutODi3_",
        "outputId": "bd9fc70e-397f-46b1-c67b-a645feb9f89f"
      },
      "outputs": [
        {
          "output_type": "stream",
          "name": "stdout",
          "text": [
            "26914.13588291651\n",
            "23060.67811071766\n",
            "21226.89389751434\n",
            "20638.95689892553\n",
            "20135.15319461245\n"
          ]
        }
      ],
      "source": [
        "x_1, optimal_distance_1, temperature_1, cities_1 = simulate_annealing(cities_list=list(df[\"address\"]), T=30000, alpha=0.2, N=100)"
      ]
    },
    {
      "cell_type": "code",
      "execution_count": 66,
      "metadata": {
        "id": "EZweQqHEZZF4"
      },
      "outputs": [],
      "source": [
        "x_2, optimal_distance_2, temperature_2, cities_2 = simulate_annealing(cities_list=list(df[\"address\"]), T=30000, alpha=0.2, N=50)"
      ]
    },
    {
      "cell_type": "code",
      "execution_count": 67,
      "metadata": {
        "id": "ott_z0IQciNr"
      },
      "outputs": [],
      "source": [
        "x_3, optimal_distance_3, temperature_3, cities_3 = simulate_annealing(cities_list=list(df[\"address\"]), T=30000, alpha=0.2, N=10)"
      ]
    },
    {
      "cell_type": "code",
      "execution_count": 10,
      "metadata": {
        "id": "nnVRfe4ixC2C"
      },
      "outputs": [],
      "source": [
        "process_1 = list(map(lambda x: salesman_distance(x), cities_1))\n",
        "process_2 = list(map(lambda x: salesman_distance(x), cities_3))\n",
        "process_3 = list(map(lambda x: salesman_distance(x), cities_3))"
      ]
    },
    {
      "cell_type": "code",
      "execution_count": null,
      "metadata": {
        "colab": {
          "background_save": true,
          "base_uri": "https://localhost:8080/",
          "height": 482
        },
        "id": "1G7WdjgavryR",
        "outputId": "abcf75a7-6b7f-42e8-d3b5-89958cd70333"
      },
      "outputs": [
        {
          "data": {
            "image/png": "[encoded data removed]",
            "text/plain": [
              "<Figure size 720x576 with 1 Axes>"
            ]
          },
          "metadata": {},
          "output_type": "display_data"
        }
      ],
      "source": [
        "plt.figure(figsize=(10,8))\n",
        "plt.plot(np.arange(len(process_1)), process_1, lablel=\"slow\")\n",
        "plt.plot(np.arange(len(process_2)), process_2, label=\"middle\")\n",
        "plt.plot(np.arange(len(process_3)), process_3, )\n",
        "plt.show()"
      ]
    },
    {
      "cell_type": "markdown",
      "source": [
        "## Animation"
      ],
      "metadata": {
        "id": "iNBdrqCNEQ3C"
      }
    },
    {
      "cell_type": "code",
      "source": [
        "coors = cities_to_coordinates(df[\"address\"])"
      ],
      "metadata": {
        "id": "C4mpTseZFj8X"
      },
      "execution_count": 19,
      "outputs": []
    },
    {
      "cell_type": "code",
      "execution_count": 125,
      "metadata": {
        "id": "IZvSCe74xuHP",
        "colab": {
          "base_uri": "https://localhost:8080/",
          "height": 536
        },
        "outputId": "8b17f73d-6a07-4bd4-ff0e-0e4a7b800f59"
      },
      "outputs": [
        {
          "output_type": "display_data",
          "data": {
            "text/plain": [
              "<Figure size 1080x648 with 1 Axes>"
            ],
            "image/png": "[encoded data removed]"
          },
          "metadata": {
            "needs_background": "light"
          }
        }
      ],
      "source": [
        "fig, ax = plt.subplots(figsize=(15, 9))\n",
        "ax.scatter([c[1] for c in coors], [c[0] for c in coors])\n",
        "for i, city in enumerate(df[\"address\"]):\n",
        "  ax.annotate(city, xy=(coors[i][1], coors[i][0]))\n",
        "\n",
        "line, = ax.plot([], [], lw=2)\n",
        "temperature_text = ax.text(0.80, 0.95, s='', fontsize=12, transform = ax.transAxes, bbox=dict(facecolor='blue', alpha=0.5))\n",
        "distance_text = ax.text(0.80, 0.90, s='', fontsize=12, transform = ax.transAxes, bbox=dict(facecolor='blue', alpha=0.5))\n",
        "\n",
        "def init():\n",
        "    line.set_data([], [])\n",
        "    temperature_text.set_text('')\n",
        "    distance_text.set_text('')\n",
        "    return line, temperature_text, distance_text\n",
        "\n",
        "def animate(i):\n",
        "    coordinates = cities_to_coordinates(cities_1[i])\n",
        "    x = [coor[1] for coor in coordinates]\n",
        "    y = [coor[0] for coor in coordinates]\n",
        "    distance_text.set_text('Distance: {}'.format(int(salesman_distance(cities_1[i]))))\n",
        "    temperature_text.set_text(\"Temperature: {}\".format(int(temperature_1[i])))\n",
        "    line.set_data(x, y)\n",
        "    return line\n",
        "\n",
        "anim = animation.FuncAnimation(fig, animate, init_func=init,\n",
        "                               frames=len(cities_1), interval=10, blit=False)\n",
        "\n",
        "anim.save('animation.mp4', fps=30, extra_args=['-vcodec', 'libx264'])"
      ]
    },
    {
      "cell_type": "code",
      "source": [
        ""
      ],
      "metadata": {
        "id": "Pef__z3oF5Au"
      },
      "execution_count": null,
      "outputs": []
    }
  ],
  "metadata": {
    "colab": {
      "collapsed_sections": [],
      "name": "Untitled1.ipynb",
      "provenance": []
    },
    "kernelspec": {
      "display_name": "Python 3",
      "name": "python3"
    },
    "language_info": {
      "name": "python"
    }
  },
  "nbformat": 4,
  "nbformat_minor": 0
}